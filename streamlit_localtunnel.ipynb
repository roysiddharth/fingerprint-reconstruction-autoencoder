{
  "nbformat": 4,
  "nbformat_minor": 0,
  "metadata": {
    "colab": {
      "name": "streamlit-localtunnel.ipynb",
      "provenance": [],
      "collapsed_sections": []
    },
    "kernelspec": {
      "name": "python3",
      "display_name": "Python 3"
    },
    "language_info": {
      "name": "python"
    }
  },
  "cells": [
    {
      "cell_type": "code",
      "source": [
        "!pip install streamlit -q\n",
        "!pip install tensorflow -q"
      ],
      "metadata": {
        "id": "KSbRWpYZDQNM",
        "colab": {
          "base_uri": "https://localhost:8080/"
        },
        "outputId": "65ed7f12-a1eb-4180-dd5a-e928f47e5298"
      },
      "execution_count": 1,
      "outputs": [
        {
          "output_type": "stream",
          "name": "stdout",
          "text": [
            "\u001b[K     |████████████████████████████████| 9.1 MB 5.5 MB/s \n",
            "\u001b[K     |████████████████████████████████| 181 kB 65.9 MB/s \n",
            "\u001b[K     |████████████████████████████████| 4.3 MB 36.8 MB/s \n",
            "\u001b[K     |████████████████████████████████| 78 kB 3.8 MB/s \n",
            "\u001b[K     |████████████████████████████████| 164 kB 60.7 MB/s \n",
            "\u001b[K     |████████████████████████████████| 232 kB 66.9 MB/s \n",
            "\u001b[K     |████████████████████████████████| 111 kB 67.2 MB/s \n",
            "\u001b[K     |████████████████████████████████| 63 kB 1.7 MB/s \n",
            "\u001b[K     |████████████████████████████████| 133 kB 65.8 MB/s \n",
            "\u001b[K     |████████████████████████████████| 793 kB 62.4 MB/s \n",
            "\u001b[K     |████████████████████████████████| 428 kB 69.9 MB/s \n",
            "\u001b[K     |████████████████████████████████| 132 kB 69.9 MB/s \n",
            "\u001b[K     |████████████████████████████████| 381 kB 68.6 MB/s \n",
            "\u001b[K     |████████████████████████████████| 51 kB 4.8 MB/s \n",
            "\u001b[?25h  Building wheel for blinker (setup.py) ... \u001b[?25l\u001b[?25hdone\n",
            "  Building wheel for validators (setup.py) ... \u001b[?25l\u001b[?25hdone\n",
            "\u001b[31mERROR: pip's dependency resolver does not currently take into account all the packages that are installed. This behaviour is the source of the following dependency conflicts.\n",
            "nbclient 0.6.4 requires traitlets>=5.2.2, but you have traitlets 5.1.1 which is incompatible.\n",
            "jupyter-console 5.2.0 requires prompt-toolkit<2.0.0,>=1.0.0, but you have prompt-toolkit 3.0.30 which is incompatible.\n",
            "google-colab 1.0.0 requires ipykernel~=4.10, but you have ipykernel 6.15.0 which is incompatible.\n",
            "google-colab 1.0.0 requires ipython~=5.5.0, but you have ipython 7.34.0 which is incompatible.\n",
            "google-colab 1.0.0 requires tornado~=5.1.0; python_version >= \"3.0\", but you have tornado 6.1 which is incompatible.\u001b[0m\n"
          ]
        }
      ]
    },
    {
      "cell_type": "code",
      "source": [
        "!streamlit run app.py & npx localtunnel --port 8501"
      ],
      "metadata": {
        "id": "-hVnmx0H3hiZ",
        "colab": {
          "base_uri": "https://localhost:8080/"
        },
        "outputId": "079ef878-e50a-404a-a850-0a8572666a1d"
      },
      "execution_count": 6,
      "outputs": [
        {
          "output_type": "stream",
          "name": "stdout",
          "text": [
            "2022-07-02 16:36:46.494 INFO    numexpr.utils: NumExpr defaulting to 2 threads.\n",
            "\u001b[0m\n",
            "\u001b[34m\u001b[1m  You can now view your Streamlit app in your browser.\u001b[0m\n",
            "\u001b[0m\n",
            "\u001b[34m  Network URL: \u001b[0m\u001b[1mhttp://172.28.0.2:8501\u001b[0m\n",
            "\u001b[34m  External URL: \u001b[0m\u001b[1mhttp://34.136.150.221:8501\u001b[0m\n",
            "\u001b[0m\n",
            "\u001b[K\u001b[?25hnpx: installed 22 in 3.038s\n",
            "your url is: https://petite-donkeys-hunt-34-136-150-221.loca.lt\n",
            "2022-07-02 16:37:08.995 Uncaught app exception\n",
            "Traceback (most recent call last):\n",
            "  File \"/usr/local/lib/python3.7/dist-packages/PIL/Image.py\", line 2847, in open\n",
            "    fp.seek(0)\n",
            "AttributeError: 'NoneType' object has no attribute 'seek'\n",
            "\n",
            "During handling of the above exception, another exception occurred:\n",
            "\n",
            "Traceback (most recent call last):\n",
            "  File \"/usr/local/lib/python3.7/dist-packages/streamlit/scriptrunner/script_runner.py\", line 554, in _run_script\n",
            "    exec(code, module.__dict__)\n",
            "  File \"app.py\", line 65, in <module>\n",
            "    main()\n",
            "  File \"app.py\", line 51, in main\n",
            "    original_img = Image.open(uploaded_file)\n",
            "  File \"/usr/local/lib/python3.7/dist-packages/PIL/Image.py\", line 2849, in open\n",
            "    fp = io.BytesIO(fp.read())\n",
            "AttributeError: 'NoneType' object has no attribute 'read'\n",
            "2022-07-02 16:37:15.993729: E tensorflow/stream_executor/cuda/cuda_driver.cc:271] failed call to cuInit: CUDA_ERROR_NO_DEVICE: no CUDA-capable device is detected\n",
            "\u001b[34m  Stopping...\u001b[0m\n",
            "^C\n"
          ]
        }
      ]
    },
    {
      "cell_type": "code",
      "source": [
        ""
      ],
      "metadata": {
        "id": "roT9upr-efow"
      },
      "execution_count": null,
      "outputs": []
    }
  ]
}